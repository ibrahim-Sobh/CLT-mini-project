{
 "cells": [
  {
   "cell_type": "code",
   "execution_count": 253,
   "id": "416d518c",
   "metadata": {},
   "outputs": [],
   "source": [
    "%matplotlib inline\n",
    "import matplotlib.pyplot as plt    # for plotting \n",
    "import math as mt\n",
    "import random\n",
    "import numpy as np  \n",
    "import statistics as st\n",
    "\n",
    "def get_input(input_message,warnging_message):\n",
    "    while True:\n",
    "        try:\n",
    "            value = int(input(input_message))\n",
    "            if value <=0: \n",
    "                print(warnging_message)\n",
    "                continue\n",
    "        except ValueError:\n",
    "            print(warnging_message)\n",
    "            continue\n",
    "        break\n",
    "    return int(value)\n",
    "    \n",
    "class CLT:\n",
    "\n",
    "    def __init__(self):\n",
    "\n",
    "        \n",
    "        self.number_of_tosses=0\n",
    "        self.size_of_sample = 0\n",
    "        self.number_of_samples= 0\n",
    "        self.tosses=[]\n",
    "        self.samples=[]\n",
    "    \n",
    "\n",
    "        self.set_number_of_tosses()\n",
    "        self.set_size_of_sample()\n",
    "        self.set_number_of_samples()\n",
    "        self.simulate_tosses()\n",
    "        self.simulate_samples()\n",
    "        \n",
    "    def set_number_of_tosses(self):\n",
    "        input_message=\"Enter the number of tosses you would like to be performed: \"\n",
    "        warnging_message=\"that's not a valid number of tosses. Try again \\n\"\n",
    "        self.number_of_tosses=get_input(input_message,warnging_message)\n",
    "    \n",
    "    def set_size_of_sample(self):\n",
    "        input_message=\"Enter the size of sample you would like to be taken: \"\n",
    "        warnging_message=\"that's not a valid size of samples. Try again \\n\"\n",
    "        self.size_of_sample=get_input(input_message,warnging_message)\n",
    "        while  self.size_of_sample > self.number_of_tosses:\n",
    "            print(\"Size of sample should be strictly lower than the number of tosses\\n\")\n",
    "            self.size_of_sample=get_input(input_message,warnging_message)\n",
    "        \n",
    "    def set_number_of_samples(self):\n",
    "        input_message=\"Enter the number of samples you would like to be taken: \"\n",
    "        warnging_message=\"that's not a valid number of samples. Try again \\n\"\n",
    "        self.number_of_samples=get_input(input_message,warnging_message)\n",
    "    \n",
    "    def simulate_tosses(self):\n",
    "        self.tosses= [random.uniform(0, 1) for i in range(self.number_of_tosses)]\n",
    "    \n",
    "    def simulate_samples(self):\n",
    "        self.samples=[st.mean(random.sample(self.tosses, self.size_of_sample))\n",
    "                      for i in range(self.number_of_samples)]\n",
    "        \n",
    "    def displaySamples(self):\n",
    "        set_of_point = np.asarray(self.samples)\n",
    "        fig = plt.figure(figsize=(8, 4))\n",
    "        num_bins =round(1+ mt.log2(self.number_of_samples))\n",
    "        plt.hist(set_of_point,num_bins, density=True, facecolor='red', alpha=0.2);\n",
    "        plt.show()\n",
    " \n",
    "        \n"
   ]
  },
  {
   "cell_type": "code",
   "execution_count": 261,
   "id": "02d2d3b8",
   "metadata": {
    "scrolled": true
   },
   "outputs": [
    {
     "name": "stdout",
     "output_type": "stream",
     "text": [
      "Enter the number of tosses you would like to be performed: 1000\n",
      "Enter the size of sample you would like to be taken: 10\n",
      "Enter the number of samples you would like to be taken: 200\n"
     ]
    },
    {
     "data": {
      "image/png": "[encoded data removed]",
      "text/plain": [
       "<Figure size 576x288 with 1 Axes>"
      ]
     },
     "metadata": {
      "needs_background": "light"
     },
     "output_type": "display_data"
    }
   ],
   "source": [
    "if __name__ == '__main__':\n",
    "    model = CLT()\n",
    "    model.samples\n",
    "    model.displaySamples()"
   ]
  }
 ],
 "metadata": {
  "kernelspec": {
   "display_name": "Python 3 (ipykernel)",
   "language": "python",
   "name": "python3"
  },
  "language_info": {
   "codemirror_mode": {
    "name": "ipython",
    "version": 3
   },
   "file_extension": ".py",
   "mimetype": "text/x-python",
   "name": "python",
   "nbconvert_exporter": "python",
   "pygments_lexer": "ipython3",
   "version": "3.9.7"
  }
 },
 "nbformat": 4,
 "nbformat_minor": 5
}
